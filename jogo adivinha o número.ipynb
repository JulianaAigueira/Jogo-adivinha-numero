{
 "cells": [
  {
   "cell_type": "markdown",
   "id": "d8b307aa",
   "metadata": {},
   "source": [
    "Jogo adivinha o número de 0 a 10."
   ]
  },
  {
   "cell_type": "code",
   "execution_count": 2,
   "id": "9b9b43e0",
   "metadata": {},
   "outputs": [
    {
     "name": "stdout",
     "output_type": "stream",
     "text": [
      "-=-=-=-=-=-=-=-=-=-=-=-=-=-=-=-=-=-=-=-=-=-=-=-=-=-=-=-=-=-=\n",
      "                    Vamos Jogar?\n",
      "-=-=-=-=-=-=-=-=-=-=-=-=-=-=-=-=-=-=-=-=-=-=-=-=-=-=-=-=-=-=\n",
      "Adivinha qual número o computador escolheu entre 0 e 10:\n",
      "3 ...2 ...1 ...OK! JÀ ESCOLHI!\n",
      "Escolha um número: 0\n",
      "PARABÉNS, VOCÊ GANHOU!!! Você acertou o número que o computador escolheu 0\n",
      "Escolha um número: 0\n",
      "VOCÊ PERDEU! TENTE NOVAMENTE! O computador escolheu 9\n",
      "Escolha um número: 6\n",
      "VOCÊ PERDEU! TENTE NOVAMENTE! O computador escolheu 9\n",
      "Escolha um número: 9\n",
      "VOCÊ PERDEU! TENTE NOVAMENTE! O computador escolheu 0\n",
      "Escolha um número: 5\n",
      "VOCÊ PERDEU! TENTE NOVAMENTE! O computador escolheu 2\n",
      "Escolha um número: 8\n",
      "VOCÊ PERDEU! TENTE NOVAMENTE! O computador escolheu 10\n",
      "VOCÊ PERDEU!!! O computador acertou 5 e você 1\n",
      "FIM>>>\n"
     ]
    }
   ],
   "source": [
    "import random\n",
    "from time import sleep\n",
    "\n",
    "c = 0\n",
    "cont_perdeu = 0\n",
    "cont_ganhou = 0\n",
    "\n",
    "print('-=' * 30)\n",
    "print('                    Vamos Jogar?')\n",
    "print('-=' * 30)\n",
    "print('Adivinha qual número o computador escolheu entre 0 e 10:')\n",
    "x = random.randint(0, 10)\n",
    "for c in range(3, 0, -1):\n",
    "    print(c, '...', end='')\n",
    "    sleep(1)\n",
    "print('OK! JÀ ESCOLHI!')\n",
    "sleep(1)\n",
    "\n",
    "for c in range(0, 6):\n",
    "    x = random.randint(0, 10)\n",
    "    num = int(input('Escolha um número: '))\n",
    "    if num == x:\n",
    "        print(f'PARABÉNS, VOCÊ GANHOU!!! Você acertou o número que o computador escolheu {x}')\n",
    "        cont_ganhou += 1\n",
    "    else:\n",
    "        print(f'VOCÊ PERDEU! TENTE NOVAMENTE! O computador escolheu {x}')\n",
    "        cont_perdeu += 1\n",
    "if cont_ganhou > cont_perdeu:\n",
    "    print(f'PARABÉNS!! Voce é o ganhador acertou {cont_ganhou} partidas e o computador {6 - cont_ganhou}.')\n",
    "elif cont_ganhou == cont_perdeu:\n",
    "    print(f'EMPATE!!! VOCÊ ACERTOU {cont_ganhou} e o computador {cont_perdeu}')\n",
    "else:\n",
    "    print(f'VOCÊ PERDEU!!! O computador acertou {cont_perdeu} e você {cont_ganhou}')\n",
    "print('FIM>>>')\n",
    "\n"
   ]
  },
  {
   "cell_type": "code",
   "execution_count": null,
   "id": "0ba84bcd",
   "metadata": {},
   "outputs": [],
   "source": []
  }
 ],
 "metadata": {
  "kernelspec": {
   "display_name": "Python 3 (ipykernel)",
   "language": "python",
   "name": "python3"
  },
  "language_info": {
   "codemirror_mode": {
    "name": "ipython",
    "version": 3
   },
   "file_extension": ".py",
   "mimetype": "text/x-python",
   "name": "python",
   "nbconvert_exporter": "python",
   "pygments_lexer": "ipython3",
   "version": "3.9.13"
  }
 },
 "nbformat": 4,
 "nbformat_minor": 5
}
